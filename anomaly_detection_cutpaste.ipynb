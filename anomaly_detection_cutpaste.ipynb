{
  "nbformat": 4,
  "nbformat_minor": 0,
  "metadata": {
    "colab": {
      "name": "anomaly_detection_cutpaste.ipynb",
      "provenance": []
    },
    "kernelspec": {
      "name": "python3",
      "display_name": "Python 3"
    },
    "language_info": {
      "name": "python"
    },
    "accelerator": "GPU",
    "gpuClass": "standard"
  },
  "cells": [
    {
      "cell_type": "code",
      "source": [
        "# ランタイムをGPUに変更する(ランタイム-> ランタイムのタイプの変更)"
      ],
      "metadata": {
        "id": "_cJiziHLh045"
      },
      "execution_count": null,
      "outputs": []
    },
    {
      "cell_type": "code",
      "source": [
        "# 以下の２つのファイルを別途ダウンロードして、\n",
        "# google colaboratory上にアップロードする\n",
        "\n",
        "# １、学習済みファイル model-metal_nut-2022-07-09_13_26_16.tch\n",
        "# ２、推論時に使う正常な画像 good.zip"
      ],
      "metadata": {
        "id": "l9kG5p_A2RfF"
      },
      "execution_count": null,
      "outputs": []
    },
    {
      "cell_type": "code",
      "execution_count": 1,
      "metadata": {
        "colab": {
          "base_uri": "https://localhost:8080/"
        },
        "id": "12MuYt3H_pJt",
        "outputId": "b859e534-1110-44b3-b8e1-081864d14ca7"
      },
      "outputs": [
        {
          "output_type": "stream",
          "name": "stdout",
          "text": [
            "Cloning into 'anomaly_det_cutpaste'...\n",
            "remote: Enumerating objects: 64, done.\u001b[K\n",
            "remote: Counting objects: 100% (64/64), done.\u001b[K\n",
            "remote: Compressing objects: 100% (49/49), done.\u001b[K\n",
            "remote: Total 64 (delta 11), reused 60 (delta 7), pack-reused 0\u001b[K\n",
            "Unpacking objects: 100% (64/64), done.\n"
          ]
        }
      ],
      "source": [
        "!git clone https://github.com/mamorusugamoto/anomaly_det_cutpaste.git"
      ]
    },
    {
      "cell_type": "code",
      "source": [
        "#以下のパスにmodel-metal_nut-2022-07-09_13_26_16.tchをアップロードする\n",
        "#anomaly_det_cutpaste/models/\n",
        "\n",
        "#以下のパスにgood.zipをアップロードする\n",
        "#anomaly_det_cutpaste/Data/metal_nut/train/"
      ],
      "metadata": {
        "id": "Th5RI_Ih_xuO"
      },
      "execution_count": 2,
      "outputs": []
    },
    {
      "cell_type": "code",
      "source": [
        "# good.zipを解凍する\n",
        "%cd anomaly_det_cutpaste/Data/metal_nut/train/"
      ],
      "metadata": {
        "colab": {
          "base_uri": "https://localhost:8080/"
        },
        "id": "_GkauVb-3kkR",
        "outputId": "1e3a17a0-91f8-4e71-d9d6-69f5039195a4"
      },
      "execution_count": 41,
      "outputs": [
        {
          "output_type": "stream",
          "name": "stdout",
          "text": [
            "/content/anomaly_det_cutpaste/Data/metal_nut/train\n"
          ]
        }
      ]
    },
    {
      "cell_type": "code",
      "source": [
        "!ls"
      ],
      "metadata": {
        "colab": {
          "base_uri": "https://localhost:8080/"
        },
        "id": "vEV19MAV6B64",
        "outputId": "ce33cb1d-9756-40b2-dad5-799cc9c303b2"
      },
      "execution_count": 44,
      "outputs": [
        {
          "output_type": "stream",
          "name": "stdout",
          "text": [
            "good.zip  place_good_data.txt\n"
          ]
        }
      ]
    },
    {
      "cell_type": "code",
      "source": [
        "!unzip \"good.zip\""
      ],
      "metadata": {
        "colab": {
          "base_uri": "https://localhost:8080/"
        },
        "id": "hGS3PIgL3kmm",
        "outputId": "cb838e2a-0dae-4b02-f656-2a9a8ea7844e"
      },
      "execution_count": 49,
      "outputs": [
        {
          "output_type": "stream",
          "name": "stdout",
          "text": [
            "Archive:  good.zip\n",
            "   creating: good/\n",
            "  inflating: good/125.png            \n",
            "  inflating: good/014.png            \n",
            "  inflating: good/142.png            \n",
            "  inflating: good/020.png            \n",
            "  inflating: good/090.png            \n",
            "  inflating: good/111.png            \n",
            "  inflating: good/139.png            \n",
            "  inflating: good/103.png            \n",
            "  inflating: good/205.png            \n",
            "  inflating: good/126.png            \n",
            "  inflating: good/007.png            \n",
            "  inflating: good/133.png            \n",
            "  inflating: good/067.png            \n",
            "  inflating: good/068.png            \n",
            "  inflating: good/214.png            \n",
            "  inflating: good/149.png            \n",
            "  inflating: good/162.png            \n",
            "  inflating: good/109.png            \n",
            "  inflating: good/104.png            \n",
            "  inflating: good/161.png            \n",
            "  inflating: good/107.png            \n",
            "  inflating: good/141.png            \n",
            "  inflating: good/047.png            \n",
            "  inflating: good/172.png            \n",
            "  inflating: good/191.png            \n",
            "  inflating: good/006.png            \n",
            "  inflating: good/211.png            \n",
            "  inflating: good/005.png            \n",
            "  inflating: good/091.png            \n",
            "  inflating: good/190.png            \n",
            "  inflating: good/118.png            \n",
            "  inflating: good/171.png            \n",
            "  inflating: good/082.png            \n",
            "  inflating: good/095.png            \n",
            "  inflating: good/184.png            \n",
            "  inflating: good/084.png            \n",
            "  inflating: good/155.png            \n",
            "  inflating: good/097.png            \n",
            "  inflating: good/058.png            \n",
            "  inflating: good/057.png            \n",
            "  inflating: good/017.png            \n",
            "  inflating: good/115.png            \n",
            "  inflating: good/175.png            \n",
            "  inflating: good/218.png            \n",
            "  inflating: good/217.png            \n",
            "  inflating: good/078.png            \n",
            "  inflating: good/114.png            \n",
            "  inflating: good/167.png            \n",
            "  inflating: good/043.png            \n",
            "  inflating: good/085.png            \n",
            "  inflating: good/100.png            \n",
            "  inflating: good/192.png            \n",
            "  inflating: good/182.png            \n",
            "  inflating: good/131.png            \n",
            "  inflating: good/152.png            \n",
            "  inflating: good/177.png            \n",
            "  inflating: good/088.png            \n",
            "  inflating: good/045.png            \n",
            "  inflating: good/145.png            \n",
            "  inflating: good/066.png            \n",
            "  inflating: good/128.png            \n",
            "  inflating: good/116.png            \n",
            "  inflating: good/200.png            \n",
            "  inflating: good/094.png            \n",
            "  inflating: good/170.png            \n",
            "  inflating: good/129.png            \n",
            "  inflating: good/033.png            \n",
            "  inflating: good/052.png            \n",
            "  inflating: good/012.png            \n",
            "  inflating: good/096.png            \n",
            "  inflating: good/105.png            \n",
            "  inflating: good/051.png            \n",
            "  inflating: good/015.png            \n",
            "  inflating: good/038.png            \n",
            "  inflating: good/024.png            \n",
            "  inflating: good/077.png            \n",
            "  inflating: good/060.png            \n",
            "  inflating: good/065.png            \n",
            "  inflating: good/193.png            \n",
            "  inflating: good/023.png            \n",
            "  inflating: good/137.png            \n",
            "  inflating: good/174.png            \n",
            "  inflating: good/030.png            \n",
            "  inflating: good/210.png            \n",
            "  inflating: good/044.png            \n",
            "  inflating: good/117.png            \n",
            "  inflating: good/166.png            \n",
            "  inflating: good/158.png            \n",
            "  inflating: good/083.png            \n",
            "  inflating: good/013.png            \n",
            "  inflating: good/001.png            \n",
            "  inflating: good/098.png            \n",
            "  inflating: good/186.png            \n",
            "  inflating: good/156.png            \n",
            "  inflating: good/073.png            \n",
            "  inflating: good/022.png            \n",
            "  inflating: good/178.png            \n",
            "  inflating: good/046.png            \n",
            "  inflating: good/165.png            \n",
            "  inflating: good/209.png            \n",
            "  inflating: good/010.png            \n",
            "  inflating: good/208.png            \n",
            "  inflating: good/144.png            \n",
            "  inflating: good/121.png            \n",
            "  inflating: good/216.png            \n",
            "  inflating: good/063.png            \n",
            "  inflating: good/003.png            \n",
            "  inflating: good/002.png            \n",
            "  inflating: good/132.png            \n",
            "  inflating: good/153.png            \n",
            "  inflating: good/199.png            \n",
            "  inflating: good/019.png            \n",
            "  inflating: good/074.png            \n",
            "  inflating: good/120.png            \n",
            "  inflating: good/018.png            \n",
            "  inflating: good/179.png            \n",
            "  inflating: good/204.png            \n",
            "  inflating: good/157.png            \n",
            "  inflating: good/053.png            \n",
            "  inflating: good/108.png            \n",
            "  inflating: good/086.png            \n",
            "  inflating: good/176.png            \n",
            "  inflating: good/173.png            \n",
            "  inflating: good/110.png            \n",
            "  inflating: good/004.png            \n",
            "  inflating: good/032.png            \n",
            "  inflating: good/009.png            \n",
            "  inflating: good/042.png            \n",
            "  inflating: good/160.png            \n",
            "  inflating: good/000.png            \n",
            "  inflating: good/076.png            \n",
            "  inflating: good/207.png            \n",
            "  inflating: good/087.png            \n",
            "  inflating: good/054.png            \n",
            "  inflating: good/163.png            \n",
            "  inflating: good/089.png            \n",
            "  inflating: good/036.png            \n",
            "  inflating: good/075.png            \n",
            "  inflating: good/138.png            \n",
            "  inflating: good/183.png            \n",
            "  inflating: good/059.png            \n",
            "  inflating: good/027.png            \n",
            "  inflating: good/069.png            \n",
            "  inflating: good/016.png            \n",
            "  inflating: good/147.png            \n",
            "  inflating: good/106.png            \n",
            "  inflating: good/056.png            \n",
            "  inflating: good/188.png            \n",
            "  inflating: good/062.png            \n",
            "  inflating: good/039.png            \n",
            "  inflating: good/213.png            \n",
            "  inflating: good/037.png            \n",
            "  inflating: good/025.png            \n",
            "  inflating: good/064.png            \n",
            "  inflating: good/197.png            \n",
            "  inflating: good/201.png            \n",
            "  inflating: good/181.png            \n",
            "  inflating: good/070.png            \n",
            "  inflating: good/219.png            \n",
            "  inflating: good/164.png            \n",
            "  inflating: good/185.png            \n",
            "  inflating: good/198.png            \n",
            "  inflating: good/187.png            \n",
            "  inflating: good/148.png            \n",
            "  inflating: good/093.png            \n",
            "  inflating: good/031.png            \n",
            "  inflating: good/081.png            \n",
            "  inflating: good/135.png            \n",
            "  inflating: good/124.png            \n",
            "  inflating: good/102.png            \n",
            "  inflating: good/169.png            \n",
            "  inflating: good/154.png            \n",
            "  inflating: good/159.png            \n",
            "  inflating: good/079.png            \n",
            "  inflating: good/050.png            \n",
            "  inflating: good/055.png            \n",
            "  inflating: good/113.png            \n",
            "  inflating: good/206.png            \n",
            "  inflating: good/008.png            \n",
            "  inflating: good/122.png            \n",
            "  inflating: good/092.png            \n",
            "  inflating: good/061.png            \n",
            "  inflating: good/123.png            \n",
            "  inflating: good/134.png            \n",
            "  inflating: good/195.png            \n",
            "  inflating: good/034.png            \n",
            "  inflating: good/168.png            \n",
            "  inflating: good/194.png            \n",
            "  inflating: good/101.png            \n",
            "  inflating: good/021.png            \n",
            "  inflating: good/130.png            \n",
            "  inflating: good/151.png            \n",
            "  inflating: good/196.png            \n",
            "  inflating: good/028.png            \n",
            "  inflating: good/202.png            \n",
            "  inflating: good/180.png            \n",
            "  inflating: good/029.png            \n",
            "  inflating: good/215.png            \n",
            "  inflating: good/136.png            \n",
            "  inflating: good/041.png            \n",
            "  inflating: good/119.png            \n",
            "  inflating: good/140.png            \n",
            "  inflating: good/212.png            \n",
            "  inflating: good/011.png            \n",
            "  inflating: good/035.png            \n",
            "  inflating: good/189.png            \n",
            "  inflating: good/026.png            \n",
            "  inflating: good/150.png            \n",
            "  inflating: good/080.png            \n",
            "  inflating: good/049.png            \n",
            "  inflating: good/127.png            \n",
            "  inflating: good/040.png            \n",
            "  inflating: good/071.png            \n",
            "  inflating: good/099.png            \n",
            "  inflating: good/112.png            \n",
            "  inflating: good/143.png            \n",
            "  inflating: good/203.png            \n",
            "  inflating: good/048.png            \n",
            "  inflating: good/072.png            \n",
            "  inflating: good/146.png            \n"
          ]
        }
      ]
    },
    {
      "cell_type": "code",
      "source": [
        "# anomarly_det_cutpasteフォルダー直下に移動\n",
        "%cd ../../../"
      ],
      "metadata": {
        "colab": {
          "base_uri": "https://localhost:8080/"
        },
        "id": "B3qy0GJO4BG2",
        "outputId": "72473306-17a9-43cf-dc3c-4d082e3e5c37"
      },
      "execution_count": 50,
      "outputs": [
        {
          "output_type": "stream",
          "name": "stdout",
          "text": [
            "/content\n"
          ]
        }
      ]
    },
    {
      "cell_type": "code",
      "source": [
        "%cd anomaly_det_cutpaste/"
      ],
      "metadata": {
        "colab": {
          "base_uri": "https://localhost:8080/"
        },
        "id": "QxO4zZwr4rLJ",
        "outputId": "2b7a23ec-df4b-48ee-f98e-9835e2c9f648"
      },
      "execution_count": 51,
      "outputs": [
        {
          "output_type": "stream",
          "name": "stdout",
          "text": [
            "/content/anomaly_det_cutpaste\n"
          ]
        }
      ]
    },
    {
      "cell_type": "code",
      "source": [
        "%ls"
      ],
      "metadata": {
        "colab": {
          "base_uri": "https://localhost:8080/"
        },
        "id": "joaMFm2F4osb",
        "outputId": "c9872542-16a0-469f-fedf-defc394e00c4"
      },
      "execution_count": 52,
      "outputs": [
        {
          "output_type": "stream",
          "name": "stdout",
          "text": [
            "cutpaste.py  density.py  eval_one_img.py  \u001b[0m\u001b[01;34mmodels\u001b[0m/           run_training.py\n",
            "\u001b[01;34mData\u001b[0m/        \u001b[01;34mdoc\u001b[0m/        eval.py          README.md         utils.py\n",
            "dataset.py   \u001b[01;34meval\u001b[0m/       model.py         requirements.txt\n"
          ]
        }
      ]
    },
    {
      "cell_type": "code",
      "source": [
        "from PIL import Image, ImageFilter\n",
        "from IPython.display import display\n",
        "\n",
        "im = Image.open('Data/001.png')\n",
        "im = im.resize((100, 100))\n",
        "display(im)"
      ],
      "metadata": {
        "colab": {
          "base_uri": "https://localhost:8080/",
          "height": 360
        },
        "id": "iLtwQQtU4UrT",
        "outputId": "5c1e1f79-8598-48d5-9e15-14b0a40e690d"
      },
      "execution_count": 4,
      "outputs": [
        {
          "output_type": "error",
          "ename": "FileNotFoundError",
          "evalue": "ignored",
          "traceback": [
            "\u001b[0;31m---------------------------------------------------------------------------\u001b[0m",
            "\u001b[0;31mFileNotFoundError\u001b[0m                         Traceback (most recent call last)",
            "\u001b[0;32m<ipython-input-4-13d0d44302c6>\u001b[0m in \u001b[0;36m<module>\u001b[0;34m()\u001b[0m\n\u001b[1;32m      2\u001b[0m \u001b[0;32mfrom\u001b[0m \u001b[0mIPython\u001b[0m\u001b[0;34m.\u001b[0m\u001b[0mdisplay\u001b[0m \u001b[0;32mimport\u001b[0m \u001b[0mdisplay\u001b[0m\u001b[0;34m\u001b[0m\u001b[0;34m\u001b[0m\u001b[0m\n\u001b[1;32m      3\u001b[0m \u001b[0;34m\u001b[0m\u001b[0m\n\u001b[0;32m----> 4\u001b[0;31m \u001b[0mim\u001b[0m \u001b[0;34m=\u001b[0m \u001b[0mImage\u001b[0m\u001b[0;34m.\u001b[0m\u001b[0mopen\u001b[0m\u001b[0;34m(\u001b[0m\u001b[0;34m'Data/001.png'\u001b[0m\u001b[0;34m)\u001b[0m\u001b[0;34m\u001b[0m\u001b[0;34m\u001b[0m\u001b[0m\n\u001b[0m\u001b[1;32m      5\u001b[0m \u001b[0mim\u001b[0m \u001b[0;34m=\u001b[0m \u001b[0mim\u001b[0m\u001b[0;34m.\u001b[0m\u001b[0mresize\u001b[0m\u001b[0;34m(\u001b[0m\u001b[0;34m(\u001b[0m\u001b[0;36m100\u001b[0m\u001b[0;34m,\u001b[0m \u001b[0;36m100\u001b[0m\u001b[0;34m)\u001b[0m\u001b[0;34m)\u001b[0m\u001b[0;34m\u001b[0m\u001b[0;34m\u001b[0m\u001b[0m\n\u001b[1;32m      6\u001b[0m \u001b[0mdisplay\u001b[0m\u001b[0;34m(\u001b[0m\u001b[0mim\u001b[0m\u001b[0;34m)\u001b[0m\u001b[0;34m\u001b[0m\u001b[0;34m\u001b[0m\u001b[0m\n",
            "\u001b[0;32m/usr/local/lib/python3.7/dist-packages/PIL/Image.py\u001b[0m in \u001b[0;36mopen\u001b[0;34m(fp, mode)\u001b[0m\n\u001b[1;32m   2841\u001b[0m \u001b[0;34m\u001b[0m\u001b[0m\n\u001b[1;32m   2842\u001b[0m     \u001b[0;32mif\u001b[0m \u001b[0mfilename\u001b[0m\u001b[0;34m:\u001b[0m\u001b[0;34m\u001b[0m\u001b[0;34m\u001b[0m\u001b[0m\n\u001b[0;32m-> 2843\u001b[0;31m         \u001b[0mfp\u001b[0m \u001b[0;34m=\u001b[0m \u001b[0mbuiltins\u001b[0m\u001b[0;34m.\u001b[0m\u001b[0mopen\u001b[0m\u001b[0;34m(\u001b[0m\u001b[0mfilename\u001b[0m\u001b[0;34m,\u001b[0m \u001b[0;34m\"rb\"\u001b[0m\u001b[0;34m)\u001b[0m\u001b[0;34m\u001b[0m\u001b[0;34m\u001b[0m\u001b[0m\n\u001b[0m\u001b[1;32m   2844\u001b[0m         \u001b[0mexclusive_fp\u001b[0m \u001b[0;34m=\u001b[0m \u001b[0;32mTrue\u001b[0m\u001b[0;34m\u001b[0m\u001b[0;34m\u001b[0m\u001b[0m\n\u001b[1;32m   2845\u001b[0m \u001b[0;34m\u001b[0m\u001b[0m\n",
            "\u001b[0;31mFileNotFoundError\u001b[0m: [Errno 2] No such file or directory: 'Data/001.png'"
          ]
        }
      ]
    },
    {
      "cell_type": "code",
      "source": [
        "# Data/001.pngを異常検知する\n",
        "# 異常度のしきい値は23.625200271606445 \n",
        "# --fil\n",
        "!python eval_one_img.py --filepath Data/002.png --model_dir models  --type metal_nut  --head_layer 2"
      ],
      "metadata": {
        "colab": {
          "base_uri": "https://localhost:8080/"
        },
        "id": "UyaNby39AE3k",
        "outputId": "d6e85f55-3050-4d2c-c181-cce35fba5779"
      },
      "execution_count": 57,
      "outputs": [
        {
          "output_type": "stream",
          "name": "stdout",
          "text": [
            "warning: not all types present in folder\n",
            "evaluating metal_nut\n",
            "loading model models/model-metal_nut-2022-07-09_13_26_16.tch\n",
            "[512, 512, 128]\n",
            "/usr/local/lib/python3.7/dist-packages/torchvision/models/_utils.py:209: UserWarning: The parameter 'pretrained' is deprecated since 0.13 and will be removed in 0.15, please use 'weights' instead.\n",
            "  f\"The parameter '{pretrained_param}' is deprecated since 0.13 and will be removed in 0.15, \"\n",
            "/usr/local/lib/python3.7/dist-packages/torchvision/models/_utils.py:223: UserWarning: Arguments other than a weight enum or `None` for 'weights' are deprecated since 0.13 and will be removed in 0.15. The current behavior is equivalent to passing `weights=None`.\n",
            "  warnings.warn(msg)\n",
            "loading good images\n",
            "loaded 220 good images\n",
            "異常\n",
            "異常度\n",
            "tensor([24.3298])\n",
            "しきい値\n",
            "Traceback (most recent call last):\n",
            "  File \"eval_one_img.py\", line 178, in <module>\n",
            "    print(THRESHOLD)\n",
            "NameError: name 'THRESHOLD' is not defined\n"
          ]
        }
      ]
    },
    {
      "cell_type": "code",
      "source": [
        " "
      ],
      "metadata": {
        "id": "ykhYWDI0BgUf"
      },
      "execution_count": null,
      "outputs": []
    }
  ]
}